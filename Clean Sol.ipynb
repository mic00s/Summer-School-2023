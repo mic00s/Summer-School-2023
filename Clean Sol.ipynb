{
 "cells": [
  {
   "cell_type": "code",
   "execution_count": 1,
   "id": "df609722",
   "metadata": {},
   "outputs": [],
   "source": [
    "from sklearn.metrics import mean_squared_error, mean_absolute_error\n",
    "from statsmodels.graphics.tsaplots import plot_acf, plot_pacf\n",
    "from statsmodels.tsa.seasonal import seasonal_decompose, STL\n",
    "from statsmodels.stats.diagnostic import acorr_ljungbox\n",
    "from statsmodels.tsa.statespace.sarimax import SARIMAX\n",
    "from statsmodels.tsa.arima_process import ArmaProcess\n",
    "from statsmodels.graphics.gofplots import qqplot\n",
    "from statsmodels.tsa.stattools import adfuller\n",
    "from tqdm import tqdm_notebook\n",
    "from itertools import product\n",
    "from typing import Union\n",
    "\n",
    "import matplotlib.pyplot as plt\n",
    "import statsmodels.api as sm\n",
    "import pandas as pd\n",
    "import numpy as np\n",
    "\n",
    "import warnings\n",
    "warnings.filterwarnings('ignore')\n",
    "\n",
    "%matplotlib inline\n",
    "\n",
    "\n",
    "from statsmodels.tsa.seasonal import seasonal_decompose \n",
    "\n",
    "from statsmodels.tsa.stattools import adfuller\n",
    "\n",
    "import matplotlib.pyplot as plt\n",
    "\n"
   ]
  },
  {
   "cell_type": "code",
   "execution_count": 5,
   "id": "d900902b",
   "metadata": {},
   "outputs": [
    {
     "data": {
      "text/html": [
       "<div>\n",
       "<style scoped>\n",
       "    .dataframe tbody tr th:only-of-type {\n",
       "        vertical-align: middle;\n",
       "    }\n",
       "\n",
       "    .dataframe tbody tr th {\n",
       "        vertical-align: top;\n",
       "    }\n",
       "\n",
       "    .dataframe thead th {\n",
       "        text-align: right;\n",
       "    }\n",
       "</style>\n",
       "<table border=\"1\" class=\"dataframe\">\n",
       "  <thead>\n",
       "    <tr style=\"text-align: right;\">\n",
       "      <th></th>\n",
       "      <th>course_id</th>\n",
       "      <th>sched_1_355</th>\n",
       "      <th>sched_2_1035</th>\n",
       "      <th>sched_3_418</th>\n",
       "      <th>sched_4_2543</th>\n",
       "      <th>stop_1_355</th>\n",
       "      <th>stop_2_1035</th>\n",
       "      <th>stop_3_418</th>\n",
       "      <th>stop_4_2543</th>\n",
       "      <th>stay_1_355</th>\n",
       "      <th>...</th>\n",
       "      <th>t_stop3_to_stop4</th>\n",
       "      <th>sched_1_355_s</th>\n",
       "      <th>sched_2_1035_s</th>\n",
       "      <th>sched_3_418_s</th>\n",
       "      <th>sched_4_2543_s</th>\n",
       "      <th>stop_1_355_s</th>\n",
       "      <th>stop_2_1035_s</th>\n",
       "      <th>stop_3_418_s</th>\n",
       "      <th>stop_4_2543_s</th>\n",
       "      <th>month</th>\n",
       "    </tr>\n",
       "    <tr>\n",
       "      <th>month</th>\n",
       "      <th></th>\n",
       "      <th></th>\n",
       "      <th></th>\n",
       "      <th></th>\n",
       "      <th></th>\n",
       "      <th></th>\n",
       "      <th></th>\n",
       "      <th></th>\n",
       "      <th></th>\n",
       "      <th></th>\n",
       "      <th></th>\n",
       "      <th></th>\n",
       "      <th></th>\n",
       "      <th></th>\n",
       "      <th></th>\n",
       "      <th></th>\n",
       "      <th></th>\n",
       "      <th></th>\n",
       "      <th></th>\n",
       "      <th></th>\n",
       "      <th></th>\n",
       "    </tr>\n",
       "  </thead>\n",
       "  <tbody>\n",
       "    <tr>\n",
       "      <th>1</th>\n",
       "      <td>1143527</td>\n",
       "      <td>2020-01-10 05:30:29.664</td>\n",
       "      <td>2020-01-10 05:31:30.144</td>\n",
       "      <td>2020-01-10 05:33:30.240</td>\n",
       "      <td>2020-01-10 05:35:30.336</td>\n",
       "      <td>2020-01-10 05:29:30.048</td>\n",
       "      <td>2020-01-10 05:30:29.664</td>\n",
       "      <td>2020-01-10 05:31:44.832</td>\n",
       "      <td>2020-01-10 05:34:36.768</td>\n",
       "      <td>0.0</td>\n",
       "      <td>...</td>\n",
       "      <td>171.936</td>\n",
       "      <td>1.578627e+09</td>\n",
       "      <td>1.578627e+09</td>\n",
       "      <td>1.578627e+09</td>\n",
       "      <td>1.578627e+09</td>\n",
       "      <td>1.578627e+09</td>\n",
       "      <td>1.578627e+09</td>\n",
       "      <td>1.578627e+09</td>\n",
       "      <td>1.578627e+09</td>\n",
       "      <td>1</td>\n",
       "    </tr>\n",
       "    <tr>\n",
       "      <th>1</th>\n",
       "      <td>1143529</td>\n",
       "      <td>2020-01-10 06:42:29.664</td>\n",
       "      <td>2020-01-10 06:43:30.144</td>\n",
       "      <td>2020-01-10 06:45:30.240</td>\n",
       "      <td>2020-01-10 06:47:30.336</td>\n",
       "      <td>2020-01-10 06:41:43.872</td>\n",
       "      <td>2020-01-10 06:43:09.408</td>\n",
       "      <td>2020-01-10 06:44:33.216</td>\n",
       "      <td>2020-01-10 06:48:02.304</td>\n",
       "      <td>1.0</td>\n",
       "      <td>...</td>\n",
       "      <td>209.088</td>\n",
       "      <td>1.578631e+09</td>\n",
       "      <td>1.578631e+09</td>\n",
       "      <td>1.578632e+09</td>\n",
       "      <td>1.578632e+09</td>\n",
       "      <td>1.578631e+09</td>\n",
       "      <td>1.578631e+09</td>\n",
       "      <td>1.578631e+09</td>\n",
       "      <td>1.578632e+09</td>\n",
       "      <td>1</td>\n",
       "    </tr>\n",
       "    <tr>\n",
       "      <th>1</th>\n",
       "      <td>1143531</td>\n",
       "      <td>2020-01-10 07:44:30.048</td>\n",
       "      <td>2020-01-10 07:46:30.144</td>\n",
       "      <td>2020-01-10 07:48:30.240</td>\n",
       "      <td>2020-01-10 07:51:29.952</td>\n",
       "      <td>2020-01-10 07:45:08.064</td>\n",
       "      <td>2020-01-10 07:47:33.216</td>\n",
       "      <td>2020-01-10 07:48:59.616</td>\n",
       "      <td>2020-01-10 07:52:07.968</td>\n",
       "      <td>1.0</td>\n",
       "      <td>...</td>\n",
       "      <td>188.352</td>\n",
       "      <td>1.578635e+09</td>\n",
       "      <td>1.578635e+09</td>\n",
       "      <td>1.578635e+09</td>\n",
       "      <td>1.578635e+09</td>\n",
       "      <td>1.578635e+09</td>\n",
       "      <td>1.578635e+09</td>\n",
       "      <td>1.578635e+09</td>\n",
       "      <td>1.578636e+09</td>\n",
       "      <td>1</td>\n",
       "    </tr>\n",
       "    <tr>\n",
       "      <th>1</th>\n",
       "      <td>1143533</td>\n",
       "      <td>2020-01-10 08:58:30.144</td>\n",
       "      <td>2020-01-10 09:00:30.240</td>\n",
       "      <td>2020-01-10 09:02:30.336</td>\n",
       "      <td>2020-01-10 09:05:30.048</td>\n",
       "      <td>2020-01-10 08:58:30.144</td>\n",
       "      <td>2020-01-10 09:00:19.008</td>\n",
       "      <td>2020-01-10 09:01:31.584</td>\n",
       "      <td>2020-01-10 09:04:40.800</td>\n",
       "      <td>0.0</td>\n",
       "      <td>...</td>\n",
       "      <td>189.216</td>\n",
       "      <td>1.578640e+09</td>\n",
       "      <td>1.578640e+09</td>\n",
       "      <td>1.578640e+09</td>\n",
       "      <td>1.578640e+09</td>\n",
       "      <td>1.578640e+09</td>\n",
       "      <td>1.578640e+09</td>\n",
       "      <td>1.578640e+09</td>\n",
       "      <td>1.578640e+09</td>\n",
       "      <td>1</td>\n",
       "    </tr>\n",
       "    <tr>\n",
       "      <th>1</th>\n",
       "      <td>1143535</td>\n",
       "      <td>2020-01-10 10:28:30.144</td>\n",
       "      <td>2020-01-10 10:30:30.240</td>\n",
       "      <td>2020-01-10 10:32:30.336</td>\n",
       "      <td>2020-01-10 10:35:30.048</td>\n",
       "      <td>2020-01-10 10:27:38.304</td>\n",
       "      <td>2020-01-10 10:30:02.592</td>\n",
       "      <td>2020-01-10 10:31:36.768</td>\n",
       "      <td>2020-01-10 10:34:37.344</td>\n",
       "      <td>2.0</td>\n",
       "      <td>...</td>\n",
       "      <td>180.576</td>\n",
       "      <td>1.578645e+09</td>\n",
       "      <td>1.578645e+09</td>\n",
       "      <td>1.578645e+09</td>\n",
       "      <td>1.578645e+09</td>\n",
       "      <td>1.578645e+09</td>\n",
       "      <td>1.578645e+09</td>\n",
       "      <td>1.578645e+09</td>\n",
       "      <td>1.578645e+09</td>\n",
       "      <td>1</td>\n",
       "    </tr>\n",
       "  </tbody>\n",
       "</table>\n",
       "<p>5 rows × 27 columns</p>\n",
       "</div>"
      ],
      "text/plain": [
       "       course_id             sched_1_355            sched_2_1035  \\\n",
       "month                                                              \n",
       "1        1143527 2020-01-10 05:30:29.664 2020-01-10 05:31:30.144   \n",
       "1        1143529 2020-01-10 06:42:29.664 2020-01-10 06:43:30.144   \n",
       "1        1143531 2020-01-10 07:44:30.048 2020-01-10 07:46:30.144   \n",
       "1        1143533 2020-01-10 08:58:30.144 2020-01-10 09:00:30.240   \n",
       "1        1143535 2020-01-10 10:28:30.144 2020-01-10 10:30:30.240   \n",
       "\n",
       "                  sched_3_418            sched_4_2543              stop_1_355  \\\n",
       "month                                                                           \n",
       "1     2020-01-10 05:33:30.240 2020-01-10 05:35:30.336 2020-01-10 05:29:30.048   \n",
       "1     2020-01-10 06:45:30.240 2020-01-10 06:47:30.336 2020-01-10 06:41:43.872   \n",
       "1     2020-01-10 07:48:30.240 2020-01-10 07:51:29.952 2020-01-10 07:45:08.064   \n",
       "1     2020-01-10 09:02:30.336 2020-01-10 09:05:30.048 2020-01-10 08:58:30.144   \n",
       "1     2020-01-10 10:32:30.336 2020-01-10 10:35:30.048 2020-01-10 10:27:38.304   \n",
       "\n",
       "                  stop_2_1035              stop_3_418             stop_4_2543  \\\n",
       "month                                                                           \n",
       "1     2020-01-10 05:30:29.664 2020-01-10 05:31:44.832 2020-01-10 05:34:36.768   \n",
       "1     2020-01-10 06:43:09.408 2020-01-10 06:44:33.216 2020-01-10 06:48:02.304   \n",
       "1     2020-01-10 07:47:33.216 2020-01-10 07:48:59.616 2020-01-10 07:52:07.968   \n",
       "1     2020-01-10 09:00:19.008 2020-01-10 09:01:31.584 2020-01-10 09:04:40.800   \n",
       "1     2020-01-10 10:30:02.592 2020-01-10 10:31:36.768 2020-01-10 10:34:37.344   \n",
       "\n",
       "       stay_1_355  ...  t_stop3_to_stop4  sched_1_355_s  sched_2_1035_s  \\\n",
       "month              ...                                                    \n",
       "1             0.0  ...           171.936   1.578627e+09    1.578627e+09   \n",
       "1             1.0  ...           209.088   1.578631e+09    1.578631e+09   \n",
       "1             1.0  ...           188.352   1.578635e+09    1.578635e+09   \n",
       "1             0.0  ...           189.216   1.578640e+09    1.578640e+09   \n",
       "1             2.0  ...           180.576   1.578645e+09    1.578645e+09   \n",
       "\n",
       "       sched_3_418_s  sched_4_2543_s  stop_1_355_s  stop_2_1035_s  \\\n",
       "month                                                               \n",
       "1       1.578627e+09    1.578627e+09  1.578627e+09   1.578627e+09   \n",
       "1       1.578632e+09    1.578632e+09  1.578631e+09   1.578631e+09   \n",
       "1       1.578635e+09    1.578635e+09  1.578635e+09   1.578635e+09   \n",
       "1       1.578640e+09    1.578640e+09  1.578640e+09   1.578640e+09   \n",
       "1       1.578645e+09    1.578645e+09  1.578645e+09   1.578645e+09   \n",
       "\n",
       "       stop_3_418_s  stop_4_2543_s  month  \n",
       "month                                      \n",
       "1      1.578627e+09   1.578627e+09      1  \n",
       "1      1.578631e+09   1.578632e+09      1  \n",
       "1      1.578635e+09   1.578636e+09      1  \n",
       "1      1.578640e+09   1.578640e+09      1  \n",
       "1      1.578645e+09   1.578645e+09      1  \n",
       "\n",
       "[5 rows x 27 columns]"
      ]
     },
     "execution_count": 5,
     "metadata": {},
     "output_type": "execute_result"
    }
   ],
   "source": [
    "##Load data\n",
    "import pandas as pd\n",
    "\n",
    "weather = r'https://raw.githubusercontent.com/mic00s/Summer-School-2023/main/raw%20data/weather_data.csv'\n",
    "datetime_cols = ['sched_1_355','sched_2_1035', 'sched_3_418', \n",
    " 'sched_4_2543', 'stop_1_355', 'stop_2_1035', \n",
    "  'stop_3_418', 'stop_4_2543']\n",
    "path = r\"https://raw.githubusercontent.com/mic00s/Summer-School-2023/%D1%87%D0%B5%D1%80%D0%BD%D0%BE%D0%B2%D0%B0/raw%20data/bus_data_w_iso_dates_and_delta_times.csv\"\n",
    "df= pd.read_csv(filepath_or_buffer=path, parse_dates=datetime_cols)\n",
    "\n",
    "#set datetime index\n",
    "\n",
    "#df['day'] = df['sched_1_355'].dt.day\n",
    "#df['year'] = df['sched_1_355'].dt.year\n",
    "df['month'] = df['sched_1_355'].dt.month\n",
    "#weather['month'] = \n",
    "\n",
    "df.set_index('month',drop=False, inplace=True)\n",
    "\n",
    "df.head()"
   ]
  },
  {
   "cell_type": "code",
   "execution_count": 21,
   "id": "bc56d115",
   "metadata": {},
   "outputs": [
    {
     "data": {
      "text/plain": [
       "course_id                    int64\n",
       "sched_1_355         datetime64[ns]\n",
       "sched_2_1035        datetime64[ns]\n",
       "sched_3_418         datetime64[ns]\n",
       "sched_4_2543        datetime64[ns]\n",
       "stop_1_355          datetime64[ns]\n",
       "stop_2_1035         datetime64[ns]\n",
       "stop_3_418          datetime64[ns]\n",
       "stop_4_2543         datetime64[ns]\n",
       "stay_1_355                 float64\n",
       "stay_2_1035                float64\n",
       "stay_3_418                 float64\n",
       "stay_4_2543                float64\n",
       "daily_course                 int64\n",
       "weekly_course                int64\n",
       "t_stop1_to_stop2           float64\n",
       "t_stop2_to_stop3           float64\n",
       "t_stop3_to_stop4           float64\n",
       "sched_1_355_s              float64\n",
       "sched_2_1035_s             float64\n",
       "sched_3_418_s              float64\n",
       "sched_4_2543_s             float64\n",
       "stop_1_355_s               float64\n",
       "stop_2_1035_s              float64\n",
       "stop_3_418_s               float64\n",
       "stop_4_2543_s              float64\n",
       "month                        int64\n",
       "dtype: object"
      ]
     },
     "execution_count": 21,
     "metadata": {},
     "output_type": "execute_result"
    }
   ],
   "source": [
    "#show data types of variables\n",
    "df.dtypes\n",
    "\n",
    "\n"
   ]
  },
  {
   "cell_type": "code",
   "execution_count": 7,
   "id": "5b91e0c8",
   "metadata": {},
   "outputs": [
    {
     "data": {
      "text/html": [
       "<div>\n",
       "<style scoped>\n",
       "    .dataframe tbody tr th:only-of-type {\n",
       "        vertical-align: middle;\n",
       "    }\n",
       "\n",
       "    .dataframe tbody tr th {\n",
       "        vertical-align: top;\n",
       "    }\n",
       "\n",
       "    .dataframe thead th {\n",
       "        text-align: right;\n",
       "    }\n",
       "</style>\n",
       "<table border=\"1\" class=\"dataframe\">\n",
       "  <thead>\n",
       "    <tr style=\"text-align: right;\">\n",
       "      <th></th>\n",
       "      <th>temp</th>\n",
       "      <th>feels_like</th>\n",
       "      <th>temp_min</th>\n",
       "      <th>temp_max</th>\n",
       "      <th>pressure</th>\n",
       "      <th>humidity</th>\n",
       "      <th>wind_speed</th>\n",
       "      <th>rain_1h</th>\n",
       "      <th>rain_3h</th>\n",
       "      <th>snow_1h</th>\n",
       "      <th>snow_3h</th>\n",
       "      <th>clouds_all</th>\n",
       "    </tr>\n",
       "    <tr>\n",
       "      <th>month</th>\n",
       "      <th></th>\n",
       "      <th></th>\n",
       "      <th></th>\n",
       "      <th></th>\n",
       "      <th></th>\n",
       "      <th></th>\n",
       "      <th></th>\n",
       "      <th></th>\n",
       "      <th></th>\n",
       "      <th></th>\n",
       "      <th></th>\n",
       "      <th></th>\n",
       "    </tr>\n",
       "  </thead>\n",
       "  <tbody>\n",
       "    <tr>\n",
       "      <th>1</th>\n",
       "      <td>-2.22</td>\n",
       "      <td>-4.29</td>\n",
       "      <td>-4.25</td>\n",
       "      <td>0.77</td>\n",
       "      <td>1023</td>\n",
       "      <td>86</td>\n",
       "      <td>1.5</td>\n",
       "      <td>0.0</td>\n",
       "      <td>0.0</td>\n",
       "      <td>0.0</td>\n",
       "      <td>0.0</td>\n",
       "      <td>1</td>\n",
       "    </tr>\n",
       "    <tr>\n",
       "      <th>1</th>\n",
       "      <td>-0.65</td>\n",
       "      <td>-2.50</td>\n",
       "      <td>-3.11</td>\n",
       "      <td>13.27</td>\n",
       "      <td>1024</td>\n",
       "      <td>79</td>\n",
       "      <td>1.5</td>\n",
       "      <td>0.0</td>\n",
       "      <td>0.0</td>\n",
       "      <td>0.0</td>\n",
       "      <td>0.0</td>\n",
       "      <td>1</td>\n",
       "    </tr>\n",
       "    <tr>\n",
       "      <th>1</th>\n",
       "      <td>0.22</td>\n",
       "      <td>0.22</td>\n",
       "      <td>-1.18</td>\n",
       "      <td>3.90</td>\n",
       "      <td>1024</td>\n",
       "      <td>69</td>\n",
       "      <td>1.0</td>\n",
       "      <td>0.0</td>\n",
       "      <td>0.0</td>\n",
       "      <td>0.0</td>\n",
       "      <td>0.0</td>\n",
       "      <td>1</td>\n",
       "    </tr>\n",
       "    <tr>\n",
       "      <th>1</th>\n",
       "      <td>3.75</td>\n",
       "      <td>3.75</td>\n",
       "      <td>1.82</td>\n",
       "      <td>13.37</td>\n",
       "      <td>1021</td>\n",
       "      <td>59</td>\n",
       "      <td>0.0</td>\n",
       "      <td>0.0</td>\n",
       "      <td>0.0</td>\n",
       "      <td>0.0</td>\n",
       "      <td>0.0</td>\n",
       "      <td>0</td>\n",
       "    </tr>\n",
       "    <tr>\n",
       "      <th>1</th>\n",
       "      <td>4.83</td>\n",
       "      <td>4.83</td>\n",
       "      <td>3.39</td>\n",
       "      <td>13.37</td>\n",
       "      <td>1023</td>\n",
       "      <td>55</td>\n",
       "      <td>1.0</td>\n",
       "      <td>0.0</td>\n",
       "      <td>0.0</td>\n",
       "      <td>0.0</td>\n",
       "      <td>0.0</td>\n",
       "      <td>1</td>\n",
       "    </tr>\n",
       "  </tbody>\n",
       "</table>\n",
       "</div>"
      ],
      "text/plain": [
       "       temp  feels_like  temp_min  temp_max  pressure  humidity  wind_speed  \\\n",
       "month                                                                         \n",
       "1     -2.22       -4.29     -4.25      0.77      1023        86         1.5   \n",
       "1     -0.65       -2.50     -3.11     13.27      1024        79         1.5   \n",
       "1      0.22        0.22     -1.18      3.90      1024        69         1.0   \n",
       "1      3.75        3.75      1.82     13.37      1021        59         0.0   \n",
       "1      4.83        4.83      3.39     13.37      1023        55         1.0   \n",
       "\n",
       "       rain_1h  rain_3h  snow_1h  snow_3h  clouds_all  \n",
       "month                                                  \n",
       "1          0.0      0.0      0.0      0.0           1  \n",
       "1          0.0      0.0      0.0      0.0           1  \n",
       "1          0.0      0.0      0.0      0.0           1  \n",
       "1          0.0      0.0      0.0      0.0           0  \n",
       "1          0.0      0.0      0.0      0.0           1  "
      ]
     },
     "execution_count": 7,
     "metadata": {},
     "output_type": "execute_result"
    }
   ],
   "source": [
    "##preprocessing of weather data and setting index same as main data\n",
    "\n",
    "weather_data = pd.read_csv(r'https://raw.githubusercontent.com/mic00s/Summer-School-2023/main/raw%20data/weather_data.csv', \n",
    "                           sep=';')\n",
    "weather_data.fillna(0, inplace=True)\n",
    "weather_data_short = weather_data[['humidity','rain_1h', 'clouds_all']]\n",
    "\n",
    "weather_data.set_index(df['month'],drop=False, inplace=True)\n",
    "weather_data_short.set_index(df['month'], drop=False, inplace=True)\n",
    "weather_data.head()"
   ]
  },
  {
   "cell_type": "code",
   "execution_count": 8,
   "id": "8b9cb264",
   "metadata": {},
   "outputs": [],
   "source": [
    "##train and target#\n",
    "#last two weeks to test\n",
    "#target_train = target[0:7202]\n",
    "#exog_train = exog[7203:]\n",
    "\n",
    "ntrain = int(2*len(df)/3)\n",
    " \n",
    "bus_train = df.iloc[:ntrain,:]\n",
    "bus_test = df.iloc[ntrain:,:]\n",
    "weather_train = weather_data_short.iloc[:ntrain,:]\n",
    "weather_test = weather_data_short.iloc[ntrain:,:]\n",
    "\n",
    "#weather_train.set_index(df['month'], drop=False, inplace=True)"
   ]
  },
  {
   "cell_type": "code",
   "execution_count": 31,
   "id": "aecb9146",
   "metadata": {},
   "outputs": [
    {
     "data": {
      "text/plain": [
       "<matplotlib.lines.Line2D at 0x1ff0963cf40>"
      ]
     },
     "execution_count": 31,
     "metadata": {},
     "output_type": "execute_result"
    },
    {
     "data": {
      "image/png": "[encoded data removed]",
      "text/plain": [
       "<Figure size 640x480 with 1 Axes>"
      ]
     },
     "metadata": {},
     "output_type": "display_data"
    }
   ],
   "source": [
    "import matplotlib.pyplot as plt\n",
    "\n",
    "\n",
    "fig, ax = plt.subplots()\n",
    "ax.grid('on')\n",
    "ax.plot(df.sched_1_355, df.t_stop1_to_stop2, c='r')\n",
    "ax.axhline(df.t_stop1_to_stop2.mean(), c='k', ls='--', lw=1)"
   ]
  },
  {
   "cell_type": "code",
   "execution_count": 34,
   "id": "fdea7c39",
   "metadata": {},
   "outputs": [
    {
     "name": "stderr",
     "output_type": "stream",
     "text": [
      "C:\\Users\\4o4o\\anaconda3\\lib\\site-packages\\statsmodels\\tsa\\base\\tsa_model.py:471: ValueWarning: An unsupported index was provided and will be ignored when e.g. forecasting.\n",
      "  self._init_dates(dates, freq)\n",
      "C:\\Users\\4o4o\\anaconda3\\lib\\site-packages\\statsmodels\\tsa\\base\\tsa_model.py:471: ValueWarning: An unsupported index was provided and will be ignored when e.g. forecasting.\n",
      "  self._init_dates(dates, freq)\n",
      "C:\\Users\\4o4o\\anaconda3\\lib\\site-packages\\statsmodels\\base\\model.py:604: ConvergenceWarning: Maximum Likelihood optimization failed to converge. Check mle_retvals\n",
      "  warnings.warn(\"Maximum Likelihood optimization failed to \"\n"
     ]
    },
    {
     "name": "stdout",
     "output_type": "stream",
     "text": [
      "                                     SARIMAX Results                                     \n",
      "=========================================================================================\n",
      "Dep. Variable:                  t_stop1_to_stop2   No. Observations:                 7392\n",
      "Model:             SARIMAX(2, 1, 1)x(0, 1, 1, 4)   Log Likelihood              -36458.127\n",
      "Date:                           Thu, 20 Jul 2023   AIC                          72950.254\n",
      "Time:                                   23:49:47   BIC                          73067.681\n",
      "Sample:                                        0   HQIC                         72990.608\n",
      "                                          - 7392                                         \n",
      "Covariance Type:                             opg                                         \n",
      "==============================================================================\n",
      "                 coef    std err          z      P>|z|      [0.025      0.975]\n",
      "------------------------------------------------------------------------------\n",
      "temp           1.0650      0.691      1.541      0.123      -0.289       2.419\n",
      "feels_like    -1.0438      0.508     -2.054      0.040      -2.040      -0.048\n",
      "temp_min       0.5042      0.306      1.647      0.100      -0.096       1.104\n",
      "temp_max       0.1229      0.219      0.561      0.575      -0.306       0.552\n",
      "pressure      -0.0658      0.045     -1.449      0.147      -0.155       0.023\n",
      "humidity      -0.2981      0.049     -6.132      0.000      -0.393      -0.203\n",
      "wind_speed     0.1911      0.268      0.712      0.476      -0.335       0.717\n",
      "rain_1h        0.8407      0.238      3.539      0.000       0.375       1.306\n",
      "rain_3h    -2.979e-15   1.49e-14     -0.200      0.842   -3.22e-14    2.62e-14\n",
      "snow_1h       -6.7004      5.566     -1.204      0.229     -17.610       4.209\n",
      "snow_3h             0        nan        nan        nan         nan         nan\n",
      "clouds_all     0.0706      0.016      4.533      0.000       0.040       0.101\n",
      "ar.L1          0.1045      0.010     10.640      0.000       0.085       0.124\n",
      "ar.L2          0.0309      0.010      3.003      0.003       0.011       0.051\n",
      "ma.L1         -0.9723      0.003   -331.241      0.000      -0.978      -0.967\n",
      "ma.S.L4       -0.9996      0.003   -323.756      0.000      -1.006      -0.994\n",
      "sigma2      1130.4771     12.220     92.511      0.000    1106.527    1154.428\n",
      "===================================================================================\n",
      "Ljung-Box (L1) (Q):                   0.00   Jarque-Bera (JB):              3495.86\n",
      "Prob(Q):                              0.99   Prob(JB):                         0.00\n",
      "Heteroskedasticity (H):               1.11   Skew:                             0.67\n",
      "Prob(H) (two-sided):                  0.01   Kurtosis:                         6.09\n",
      "===================================================================================\n",
      "\n",
      "Warnings:\n",
      "[1] Covariance matrix calculated using the outer product of gradients (complex-step).\n",
      "[2] Covariance matrix is singular or near-singular, with condition number 5.18e+22. Standard errors may be unstable.\n"
     ]
    }
   ],
   "source": [
    "from statsmodels.tsa.statespace.sarimax import SARIMAX\n",
    "\n",
    "model = SARIMAX(df.t_stop1_to_stop2, exog=weather_data, order=(2, 1, 1), seasonal_order=(0,1,1,4))\n",
    "results = model.fit()\n",
    "print(results.summary())"
   ]
  },
  {
   "cell_type": "code",
   "execution_count": 37,
   "id": "f2c9e286",
   "metadata": {},
   "outputs": [
    {
     "name": "stdout",
     "output_type": "stream",
     "text": [
      "ADF Statistic: -3.6358417872718136\n",
      "p-value: 0.005111642985131518\n"
     ]
    }
   ],
   "source": [
    "from statsmodels.tsa.stattools import adfuller\n",
    "\n",
    "target = df['t_stop1_to_stop2']\n",
    "ad_fuller_result = adfuller(target)\n",
    "\n",
    "print(f'ADF Statistic: {ad_fuller_result[0]}')\n",
    "print(f'p-value: {ad_fuller_result[1]}')"
   ]
  },
  {
   "cell_type": "code",
   "execution_count": 38,
   "id": "ed282b6c",
   "metadata": {},
   "outputs": [
    {
     "name": "stdout",
     "output_type": "stream",
     "text": [
      "ADF Statistic: -25.25253208004882\n",
      "p-value: 0.0\n"
     ]
    }
   ],
   "source": [
    "#stationarity\n",
    "\n",
    "target_diff = target.diff()\n",
    "\n",
    "ad_fuller_result = adfuller(target_diff[1:])\n",
    "\n",
    "print(f'ADF Statistic: {ad_fuller_result[0]}')\n",
    "print(f'p-value: {ad_fuller_result[1]}')"
   ]
  },
  {
   "cell_type": "code",
   "execution_count": 43,
   "id": "a8ca1162",
   "metadata": {},
   "outputs": [
    {
     "name": "stdout",
     "output_type": "stream",
     "text": [
      "      lb_stat  lb_pvalue\n",
      "1    0.011653   0.914038\n",
      "2    0.071178   0.965037\n",
      "3    0.317657   0.956674\n",
      "4    6.360942   0.173766\n",
      "5    8.388328   0.136093\n",
      "6    8.681787   0.192281\n",
      "7    9.928578   0.192657\n",
      "8   10.468826   0.233649\n",
      "9   12.895082   0.167411\n",
      "10  21.246892   0.019436\n"
     ]
    }
   ],
   "source": [
    "#residuals inspection\n",
    "from statsmodels.stats.diagnostic import acorr_ljungbox\n",
    "import numpy as np\n",
    "\n",
    "residuals = results.resid\n",
    "\n",
    "#lbvalue, \n",
    "pvalue = acorr_ljungbox(residuals, np.arange(1, 11, 1))\n",
    "\n",
    "print(pvalue)"
   ]
  },
  {
   "cell_type": "code",
   "execution_count": 1,
   "id": "e005aee6",
   "metadata": {},
   "outputs": [
    {
     "ename": "NameError",
     "evalue": "name 'results' is not defined",
     "output_type": "error",
     "traceback": [
      "\u001b[1;31m---------------------------------------------------------------------------\u001b[0m",
      "\u001b[1;31mNameError\u001b[0m                                 Traceback (most recent call last)",
      "Cell \u001b[1;32mIn[1], line 5\u001b[0m\n\u001b[0;32m      1\u001b[0m \u001b[38;5;28;01mimport\u001b[39;00m \u001b[38;5;21;01mmatplotlib\u001b[39;00m\u001b[38;5;21;01m.\u001b[39;00m\u001b[38;5;21;01mpyplot\u001b[39;00m \u001b[38;5;28;01mas\u001b[39;00m \u001b[38;5;21;01mplt\u001b[39;00m\n\u001b[0;32m      3\u001b[0m \u001b[38;5;66;03m#forecast\u001b[39;00m\n\u001b[1;32m----> 5\u001b[0m predicted \u001b[38;5;241m=\u001b[39m \u001b[43mresults\u001b[49m\u001b[38;5;241m.\u001b[39mget_prediction(start\u001b[38;5;241m=\u001b[39mntrain, end\u001b[38;5;241m=\u001b[39m\u001b[38;5;28mlen\u001b[39m(df)\u001b[38;5;241m-\u001b[39m\u001b[38;5;241m1\u001b[39m, exog\u001b[38;5;241m=\u001b[39mweather_data)\n\u001b[0;32m      7\u001b[0m ax\u001b[38;5;241m.\u001b[39mplot(df\u001b[38;5;241m.\u001b[39msched_1_355[ntrain:], predicted\u001b[38;5;241m.\u001b[39mpredicted_mean)\n",
      "\u001b[1;31mNameError\u001b[0m: name 'results' is not defined"
     ]
    }
   ],
   "source": [
    "import matplotlib.pyplot as plt\n",
    "\n",
    "#forecast\n",
    "\n",
    "predicted = results.get_prediction(start=ntrain, end=len(df)-1, exog=weather_data)\n",
    "\n",
    "ax.plot(df.sched_1_355[ntrain:], predicted.predicted_mean)"
   ]
  },
  {
   "cell_type": "code",
   "execution_count": 82,
   "id": "9f8bdd46",
   "metadata": {},
   "outputs": [
    {
     "ename": "AttributeError",
     "evalue": "module 'pandas' has no attribute 'df'",
     "output_type": "error",
     "traceback": [
      "\u001b[1;31m---------------------------------------------------------------------------\u001b[0m",
      "\u001b[1;31mAttributeError\u001b[0m                            Traceback (most recent call last)",
      "Cell \u001b[1;32mIn[82], line 5\u001b[0m\n\u001b[0;32m      1\u001b[0m \u001b[38;5;28;01mimport\u001b[39;00m \u001b[38;5;21;01mpandas\u001b[39;00m \u001b[38;5;28;01mas\u001b[39;00m \u001b[38;5;21;01mpd\u001b[39;00m\n\u001b[0;32m      3\u001b[0m df\u001b[38;5;241m.\u001b[39mset_index(df\u001b[38;5;241m.\u001b[39mmonth,drop\u001b[38;5;241m=\u001b[39m\u001b[38;5;28;01mFalse\u001b[39;00m, inplace\u001b[38;5;241m=\u001b[39m\u001b[38;5;28;01mTrue\u001b[39;00m)\n\u001b[1;32m----> 5\u001b[0m actual_vs_predicted \u001b[38;5;241m=\u001b[39m \u001b[43mpd\u001b[49m\u001b[38;5;241;43m.\u001b[39;49m\u001b[43mdf\u001b[49m[\n\u001b[0;32m      6\u001b[0m     {\u001b[38;5;124m'\u001b[39m\u001b[38;5;124mActual\u001b[39m\u001b[38;5;124m'\u001b[39m: bus_test, \n\u001b[0;32m      7\u001b[0m      \u001b[38;5;124m'\u001b[39m\u001b[38;5;124mPredicted\u001b[39m\u001b[38;5;124m'\u001b[39m:predicted}\n\u001b[0;32m      8\u001b[0m ]\n",
      "File \u001b[1;32m~\\anaconda3\\lib\\site-packages\\pandas\\__init__.py:264\u001b[0m, in \u001b[0;36m__getattr__\u001b[1;34m(name)\u001b[0m\n\u001b[0;32m    260\u001b[0m     \u001b[38;5;28;01mfrom\u001b[39;00m \u001b[38;5;21;01mpandas\u001b[39;00m\u001b[38;5;21;01m.\u001b[39;00m\u001b[38;5;21;01mcore\u001b[39;00m\u001b[38;5;21;01m.\u001b[39;00m\u001b[38;5;21;01marrays\u001b[39;00m\u001b[38;5;21;01m.\u001b[39;00m\u001b[38;5;21;01msparse\u001b[39;00m \u001b[38;5;28;01mimport\u001b[39;00m SparseArray \u001b[38;5;28;01mas\u001b[39;00m _SparseArray\n\u001b[0;32m    262\u001b[0m     \u001b[38;5;28;01mreturn\u001b[39;00m _SparseArray\n\u001b[1;32m--> 264\u001b[0m \u001b[38;5;28;01mraise\u001b[39;00m \u001b[38;5;167;01mAttributeError\u001b[39;00m(\u001b[38;5;124mf\u001b[39m\u001b[38;5;124m\"\u001b[39m\u001b[38;5;124mmodule \u001b[39m\u001b[38;5;124m'\u001b[39m\u001b[38;5;124mpandas\u001b[39m\u001b[38;5;124m'\u001b[39m\u001b[38;5;124m has no attribute \u001b[39m\u001b[38;5;124m'\u001b[39m\u001b[38;5;132;01m{\u001b[39;00mname\u001b[38;5;132;01m}\u001b[39;00m\u001b[38;5;124m'\u001b[39m\u001b[38;5;124m\"\u001b[39m)\n",
      "\u001b[1;31mAttributeError\u001b[0m: module 'pandas' has no attribute 'df'"
     ]
    }
   ],
   "source": [
    "import pandas as pd\n",
    "\n",
    "df.set_index(df.month,drop=False, inplace=True)\n",
    "\n"
   ]
  },
  {
   "cell_type": "code",
   "execution_count": 83,
   "id": "41a7c3c8",
   "metadata": {},
   "outputs": [
    {
     "ename": "TypeError",
     "evalue": "Expected sequence or array-like, got <class 'statsmodels.tsa.statespace.mlemodel.PredictionResultsWrapper'>",
     "output_type": "error",
     "traceback": [
      "\u001b[1;31m---------------------------------------------------------------------------\u001b[0m",
      "\u001b[1;31mTypeError\u001b[0m                                 Traceback (most recent call last)",
      "Cell \u001b[1;32mIn[83], line 8\u001b[0m\n\u001b[0;32m      1\u001b[0m \u001b[38;5;66;03m#Tests\u001b[39;00m\n\u001b[0;32m      3\u001b[0m \u001b[38;5;28;01mfrom\u001b[39;00m \u001b[38;5;21;01msklearn\u001b[39;00m\u001b[38;5;21;01m.\u001b[39;00m\u001b[38;5;21;01mmetrics\u001b[39;00m \u001b[38;5;28;01mimport\u001b[39;00m (\n\u001b[0;32m      4\u001b[0m     mean_absolute_error, \u001b[38;5;66;03m# MAE\u001b[39;00m\n\u001b[0;32m      5\u001b[0m     mean_squared_error \u001b[38;5;66;03m# MSE\u001b[39;00m\n\u001b[0;32m      6\u001b[0m )\n\u001b[1;32m----> 8\u001b[0m MAE \u001b[38;5;241m=\u001b[39m \u001b[43mmean_absolute_error\u001b[49m\u001b[43m(\u001b[49m\n\u001b[0;32m      9\u001b[0m \u001b[43m    \u001b[49m\u001b[43my_true\u001b[49m\u001b[38;5;241;43m=\u001b[39;49m\u001b[43mbus_test\u001b[49m\u001b[43m,\u001b[49m\u001b[43m \u001b[49m\u001b[38;5;66;43;03m# actual values\u001b[39;49;00m\n\u001b[0;32m     10\u001b[0m \u001b[43m    \u001b[49m\u001b[43my_pred\u001b[49m\u001b[38;5;241;43m=\u001b[39;49m\u001b[43mpredicted\u001b[49m\u001b[43m \u001b[49m\u001b[38;5;66;43;03m# predicted values\u001b[39;49;00m\n\u001b[0;32m     11\u001b[0m \u001b[43m)\u001b[49m\n\u001b[0;32m     12\u001b[0m MAE\u001b[38;5;241m.\u001b[39mround(\u001b[38;5;241m2\u001b[39m)\n\u001b[0;32m     14\u001b[0m MSE \u001b[38;5;241m=\u001b[39m mean_squared_error(\n\u001b[0;32m     15\u001b[0m     y_true\u001b[38;5;241m=\u001b[39my_test, \u001b[38;5;66;03m# actual values\u001b[39;00m\n\u001b[0;32m     16\u001b[0m     y_pred\u001b[38;5;241m=\u001b[39mpredicted \u001b[38;5;66;03m# predicted values\u001b[39;00m\n\u001b[0;32m     17\u001b[0m )\n",
      "File \u001b[1;32m~\\anaconda3\\lib\\site-packages\\sklearn\\metrics\\_regression.py:196\u001b[0m, in \u001b[0;36mmean_absolute_error\u001b[1;34m(y_true, y_pred, sample_weight, multioutput)\u001b[0m\n\u001b[0;32m    141\u001b[0m \u001b[38;5;28;01mdef\u001b[39;00m \u001b[38;5;21mmean_absolute_error\u001b[39m(\n\u001b[0;32m    142\u001b[0m     y_true, y_pred, \u001b[38;5;241m*\u001b[39m, sample_weight\u001b[38;5;241m=\u001b[39m\u001b[38;5;28;01mNone\u001b[39;00m, multioutput\u001b[38;5;241m=\u001b[39m\u001b[38;5;124m\"\u001b[39m\u001b[38;5;124muniform_average\u001b[39m\u001b[38;5;124m\"\u001b[39m\n\u001b[0;32m    143\u001b[0m ):\n\u001b[0;32m    144\u001b[0m     \u001b[38;5;124;03m\"\"\"Mean absolute error regression loss.\u001b[39;00m\n\u001b[0;32m    145\u001b[0m \n\u001b[0;32m    146\u001b[0m \u001b[38;5;124;03m    Read more in the :ref:`User Guide <mean_absolute_error>`.\u001b[39;00m\n\u001b[1;32m   (...)\u001b[0m\n\u001b[0;32m    194\u001b[0m \u001b[38;5;124;03m    0.85...\u001b[39;00m\n\u001b[0;32m    195\u001b[0m \u001b[38;5;124;03m    \"\"\"\u001b[39;00m\n\u001b[1;32m--> 196\u001b[0m     y_type, y_true, y_pred, multioutput \u001b[38;5;241m=\u001b[39m \u001b[43m_check_reg_targets\u001b[49m\u001b[43m(\u001b[49m\n\u001b[0;32m    197\u001b[0m \u001b[43m        \u001b[49m\u001b[43my_true\u001b[49m\u001b[43m,\u001b[49m\u001b[43m \u001b[49m\u001b[43my_pred\u001b[49m\u001b[43m,\u001b[49m\u001b[43m \u001b[49m\u001b[43mmultioutput\u001b[49m\n\u001b[0;32m    198\u001b[0m \u001b[43m    \u001b[49m\u001b[43m)\u001b[49m\n\u001b[0;32m    199\u001b[0m     check_consistent_length(y_true, y_pred, sample_weight)\n\u001b[0;32m    200\u001b[0m     output_errors \u001b[38;5;241m=\u001b[39m np\u001b[38;5;241m.\u001b[39maverage(np\u001b[38;5;241m.\u001b[39mabs(y_pred \u001b[38;5;241m-\u001b[39m y_true), weights\u001b[38;5;241m=\u001b[39msample_weight, axis\u001b[38;5;241m=\u001b[39m\u001b[38;5;241m0\u001b[39m)\n",
      "File \u001b[1;32m~\\anaconda3\\lib\\site-packages\\sklearn\\metrics\\_regression.py:100\u001b[0m, in \u001b[0;36m_check_reg_targets\u001b[1;34m(y_true, y_pred, multioutput, dtype)\u001b[0m\n\u001b[0;32m     66\u001b[0m \u001b[38;5;28;01mdef\u001b[39;00m \u001b[38;5;21m_check_reg_targets\u001b[39m(y_true, y_pred, multioutput, dtype\u001b[38;5;241m=\u001b[39m\u001b[38;5;124m\"\u001b[39m\u001b[38;5;124mnumeric\u001b[39m\u001b[38;5;124m\"\u001b[39m):\n\u001b[0;32m     67\u001b[0m     \u001b[38;5;124;03m\"\"\"Check that y_true and y_pred belong to the same regression task.\u001b[39;00m\n\u001b[0;32m     68\u001b[0m \n\u001b[0;32m     69\u001b[0m \u001b[38;5;124;03m    Parameters\u001b[39;00m\n\u001b[1;32m   (...)\u001b[0m\n\u001b[0;32m     98\u001b[0m \u001b[38;5;124;03m        correct keyword.\u001b[39;00m\n\u001b[0;32m     99\u001b[0m \u001b[38;5;124;03m    \"\"\"\u001b[39;00m\n\u001b[1;32m--> 100\u001b[0m     \u001b[43mcheck_consistent_length\u001b[49m\u001b[43m(\u001b[49m\u001b[43my_true\u001b[49m\u001b[43m,\u001b[49m\u001b[43m \u001b[49m\u001b[43my_pred\u001b[49m\u001b[43m)\u001b[49m\n\u001b[0;32m    101\u001b[0m     y_true \u001b[38;5;241m=\u001b[39m check_array(y_true, ensure_2d\u001b[38;5;241m=\u001b[39m\u001b[38;5;28;01mFalse\u001b[39;00m, dtype\u001b[38;5;241m=\u001b[39mdtype)\n\u001b[0;32m    102\u001b[0m     y_pred \u001b[38;5;241m=\u001b[39m check_array(y_pred, ensure_2d\u001b[38;5;241m=\u001b[39m\u001b[38;5;28;01mFalse\u001b[39;00m, dtype\u001b[38;5;241m=\u001b[39mdtype)\n",
      "File \u001b[1;32m~\\anaconda3\\lib\\site-packages\\sklearn\\utils\\validation.py:394\u001b[0m, in \u001b[0;36mcheck_consistent_length\u001b[1;34m(*arrays)\u001b[0m\n\u001b[0;32m    383\u001b[0m \u001b[38;5;28;01mdef\u001b[39;00m \u001b[38;5;21mcheck_consistent_length\u001b[39m(\u001b[38;5;241m*\u001b[39marrays):\n\u001b[0;32m    384\u001b[0m     \u001b[38;5;124;03m\"\"\"Check that all arrays have consistent first dimensions.\u001b[39;00m\n\u001b[0;32m    385\u001b[0m \n\u001b[0;32m    386\u001b[0m \u001b[38;5;124;03m    Checks whether all objects in arrays have the same shape or length.\u001b[39;00m\n\u001b[1;32m   (...)\u001b[0m\n\u001b[0;32m    391\u001b[0m \u001b[38;5;124;03m        Objects that will be checked for consistent length.\u001b[39;00m\n\u001b[0;32m    392\u001b[0m \u001b[38;5;124;03m    \"\"\"\u001b[39;00m\n\u001b[1;32m--> 394\u001b[0m     lengths \u001b[38;5;241m=\u001b[39m [_num_samples(X) \u001b[38;5;28;01mfor\u001b[39;00m X \u001b[38;5;129;01min\u001b[39;00m arrays \u001b[38;5;28;01mif\u001b[39;00m X \u001b[38;5;129;01mis\u001b[39;00m \u001b[38;5;129;01mnot\u001b[39;00m \u001b[38;5;28;01mNone\u001b[39;00m]\n\u001b[0;32m    395\u001b[0m     uniques \u001b[38;5;241m=\u001b[39m np\u001b[38;5;241m.\u001b[39munique(lengths)\n\u001b[0;32m    396\u001b[0m     \u001b[38;5;28;01mif\u001b[39;00m \u001b[38;5;28mlen\u001b[39m(uniques) \u001b[38;5;241m>\u001b[39m \u001b[38;5;241m1\u001b[39m:\n",
      "File \u001b[1;32m~\\anaconda3\\lib\\site-packages\\sklearn\\utils\\validation.py:394\u001b[0m, in \u001b[0;36m<listcomp>\u001b[1;34m(.0)\u001b[0m\n\u001b[0;32m    383\u001b[0m \u001b[38;5;28;01mdef\u001b[39;00m \u001b[38;5;21mcheck_consistent_length\u001b[39m(\u001b[38;5;241m*\u001b[39marrays):\n\u001b[0;32m    384\u001b[0m     \u001b[38;5;124;03m\"\"\"Check that all arrays have consistent first dimensions.\u001b[39;00m\n\u001b[0;32m    385\u001b[0m \n\u001b[0;32m    386\u001b[0m \u001b[38;5;124;03m    Checks whether all objects in arrays have the same shape or length.\u001b[39;00m\n\u001b[1;32m   (...)\u001b[0m\n\u001b[0;32m    391\u001b[0m \u001b[38;5;124;03m        Objects that will be checked for consistent length.\u001b[39;00m\n\u001b[0;32m    392\u001b[0m \u001b[38;5;124;03m    \"\"\"\u001b[39;00m\n\u001b[1;32m--> 394\u001b[0m     lengths \u001b[38;5;241m=\u001b[39m [\u001b[43m_num_samples\u001b[49m\u001b[43m(\u001b[49m\u001b[43mX\u001b[49m\u001b[43m)\u001b[49m \u001b[38;5;28;01mfor\u001b[39;00m X \u001b[38;5;129;01min\u001b[39;00m arrays \u001b[38;5;28;01mif\u001b[39;00m X \u001b[38;5;129;01mis\u001b[39;00m \u001b[38;5;129;01mnot\u001b[39;00m \u001b[38;5;28;01mNone\u001b[39;00m]\n\u001b[0;32m    395\u001b[0m     uniques \u001b[38;5;241m=\u001b[39m np\u001b[38;5;241m.\u001b[39munique(lengths)\n\u001b[0;32m    396\u001b[0m     \u001b[38;5;28;01mif\u001b[39;00m \u001b[38;5;28mlen\u001b[39m(uniques) \u001b[38;5;241m>\u001b[39m \u001b[38;5;241m1\u001b[39m:\n",
      "File \u001b[1;32m~\\anaconda3\\lib\\site-packages\\sklearn\\utils\\validation.py:331\u001b[0m, in \u001b[0;36m_num_samples\u001b[1;34m(x)\u001b[0m\n\u001b[0;32m    329\u001b[0m         x \u001b[38;5;241m=\u001b[39m np\u001b[38;5;241m.\u001b[39masarray(x)\n\u001b[0;32m    330\u001b[0m     \u001b[38;5;28;01melse\u001b[39;00m:\n\u001b[1;32m--> 331\u001b[0m         \u001b[38;5;28;01mraise\u001b[39;00m \u001b[38;5;167;01mTypeError\u001b[39;00m(message)\n\u001b[0;32m    333\u001b[0m \u001b[38;5;28;01mif\u001b[39;00m \u001b[38;5;28mhasattr\u001b[39m(x, \u001b[38;5;124m\"\u001b[39m\u001b[38;5;124mshape\u001b[39m\u001b[38;5;124m\"\u001b[39m) \u001b[38;5;129;01mand\u001b[39;00m x\u001b[38;5;241m.\u001b[39mshape \u001b[38;5;129;01mis\u001b[39;00m \u001b[38;5;129;01mnot\u001b[39;00m \u001b[38;5;28;01mNone\u001b[39;00m:\n\u001b[0;32m    334\u001b[0m     \u001b[38;5;28;01mif\u001b[39;00m \u001b[38;5;28mlen\u001b[39m(x\u001b[38;5;241m.\u001b[39mshape) \u001b[38;5;241m==\u001b[39m \u001b[38;5;241m0\u001b[39m:\n",
      "\u001b[1;31mTypeError\u001b[0m: Expected sequence or array-like, got <class 'statsmodels.tsa.statespace.mlemodel.PredictionResultsWrapper'>"
     ]
    }
   ],
   "source": [
    "#Tests\n",
    "\n",
    "from sklearn.metrics import (\n",
    "    mean_absolute_error, # MAE\n",
    "    mean_squared_error # MSE\n",
    ")\n",
    "\n",
    "MAE = mean_absolute_error(\n",
    "    y_true=bus_test, # actual values\n",
    "    y_pred=predicted # predicted values\n",
    ")\n",
    "MAE.round(2)\n",
    "\n",
    "MSE = mean_squared_error(\n",
    "    y_true=y_test, # actual values\n",
    "    y_pred=predicted # predicted values\n",
    ")\n",
    "MSE.round(2)\n",
    "\n",
    "RMSE = MSE**(1/2)\n",
    "RMSE.round(2)"
   ]
  },
  {
   "cell_type": "code",
   "execution_count": 65,
   "id": "24f063de",
   "metadata": {},
   "outputs": [],
   "source": [
    "def mape(y_true, y_pred):\n",
    "    return np.mean(np.abs((y_true - y_pred) / y_true)) * 100"
   ]
  },
  {
   "cell_type": "code",
   "execution_count": 68,
   "id": "4acab848",
   "metadata": {},
   "outputs": [
    {
     "ename": "AttributeError",
     "evalue": "'DataFrame' object has no attribute 'pred_last_value'",
     "output_type": "error",
     "traceback": [
      "\u001b[1;31m---------------------------------------------------------------------------\u001b[0m",
      "\u001b[1;31mAttributeError\u001b[0m                            Traceback (most recent call last)",
      "Cell \u001b[1;32mIn[68], line 1\u001b[0m\n\u001b[1;32m----> 1\u001b[0m mape_last \u001b[38;5;241m=\u001b[39m mape(pred_df\u001b[38;5;241m.\u001b[39mactual, \u001b[43mpred_df\u001b[49m\u001b[38;5;241;43m.\u001b[39;49m\u001b[43mpred_last_value\u001b[49m)\n\u001b[0;32m      2\u001b[0m mape_SARIMAX \u001b[38;5;241m=\u001b[39m mape(pred_df\u001b[38;5;241m.\u001b[39mactual, pred_df\u001b[38;5;241m.\u001b[39mpred_SARIMAX)\n\u001b[0;32m      4\u001b[0m \u001b[38;5;28mprint\u001b[39m(mape_last, mape_SARIMAX)\n",
      "File \u001b[1;32m~\\anaconda3\\lib\\site-packages\\pandas\\core\\generic.py:5902\u001b[0m, in \u001b[0;36mNDFrame.__getattr__\u001b[1;34m(self, name)\u001b[0m\n\u001b[0;32m   5895\u001b[0m \u001b[38;5;28;01mif\u001b[39;00m (\n\u001b[0;32m   5896\u001b[0m     name \u001b[38;5;129;01mnot\u001b[39;00m \u001b[38;5;129;01min\u001b[39;00m \u001b[38;5;28mself\u001b[39m\u001b[38;5;241m.\u001b[39m_internal_names_set\n\u001b[0;32m   5897\u001b[0m     \u001b[38;5;129;01mand\u001b[39;00m name \u001b[38;5;129;01mnot\u001b[39;00m \u001b[38;5;129;01min\u001b[39;00m \u001b[38;5;28mself\u001b[39m\u001b[38;5;241m.\u001b[39m_metadata\n\u001b[0;32m   5898\u001b[0m     \u001b[38;5;129;01mand\u001b[39;00m name \u001b[38;5;129;01mnot\u001b[39;00m \u001b[38;5;129;01min\u001b[39;00m \u001b[38;5;28mself\u001b[39m\u001b[38;5;241m.\u001b[39m_accessors\n\u001b[0;32m   5899\u001b[0m     \u001b[38;5;129;01mand\u001b[39;00m \u001b[38;5;28mself\u001b[39m\u001b[38;5;241m.\u001b[39m_info_axis\u001b[38;5;241m.\u001b[39m_can_hold_identifiers_and_holds_name(name)\n\u001b[0;32m   5900\u001b[0m ):\n\u001b[0;32m   5901\u001b[0m     \u001b[38;5;28;01mreturn\u001b[39;00m \u001b[38;5;28mself\u001b[39m[name]\n\u001b[1;32m-> 5902\u001b[0m \u001b[38;5;28;01mreturn\u001b[39;00m \u001b[38;5;28;43mobject\u001b[39;49m\u001b[38;5;241;43m.\u001b[39;49m\u001b[38;5;21;43m__getattribute__\u001b[39;49m\u001b[43m(\u001b[49m\u001b[38;5;28;43mself\u001b[39;49m\u001b[43m,\u001b[49m\u001b[43m \u001b[49m\u001b[43mname\u001b[49m\u001b[43m)\u001b[49m\n",
      "\u001b[1;31mAttributeError\u001b[0m: 'DataFrame' object has no attribute 'pred_last_value'"
     ]
    }
   ],
   "source": [
    "mape_last = mape(pred_df.actual, pred_df.pred_last_value)\n",
    "mape_SARIMAX = mape(pred_df.actual, pred_df.pred_SARIMAX)\n",
    "\n",
    "print(mape_last, mape_SARIMAX)"
   ]
  },
  {
   "cell_type": "code",
   "execution_count": 64,
   "id": "8a95a01f",
   "metadata": {},
   "outputs": [
    {
     "ename": "TypeError",
     "evalue": "The DType <class 'numpy.dtype[datetime64]'> could not be promoted by <class 'numpy.dtype[float64]'>. This means that no common DType exists for the given inputs. For example they cannot be stored in a single array unless the dtype is `object`. The full list of DTypes is: (<class 'numpy.dtype[int64]'>, <class 'numpy.dtype[datetime64]'>, <class 'numpy.dtype[datetime64]'>, <class 'numpy.dtype[datetime64]'>, <class 'numpy.dtype[datetime64]'>, <class 'numpy.dtype[datetime64]'>, <class 'numpy.dtype[datetime64]'>, <class 'numpy.dtype[datetime64]'>, <class 'numpy.dtype[datetime64]'>, <class 'numpy.dtype[float64]'>, <class 'numpy.dtype[float64]'>, <class 'numpy.dtype[float64]'>, <class 'numpy.dtype[float64]'>, <class 'numpy.dtype[int64]'>, <class 'numpy.dtype[int64]'>, <class 'numpy.dtype[float64]'>, <class 'numpy.dtype[float64]'>, <class 'numpy.dtype[float64]'>, <class 'numpy.dtype[float64]'>, <class 'numpy.dtype[float64]'>, <class 'numpy.dtype[float64]'>, <class 'numpy.dtype[float64]'>, <class 'numpy.dtype[float64]'>, <class 'numpy.dtype[float64]'>, <class 'numpy.dtype[float64]'>, <class 'numpy.dtype[float64]'>, <class 'numpy.dtype[int64]'>)",
     "output_type": "error",
     "traceback": [
      "\u001b[1;31m---------------------------------------------------------------------------\u001b[0m",
      "\u001b[1;31mTypeError\u001b[0m                                 Traceback (most recent call last)",
      "Cell \u001b[1;32mIn[64], line 13\u001b[0m\n\u001b[0;32m      6\u001b[0m \u001b[38;5;66;03m#ntrain = int(2*len(df)/3)\u001b[39;00m\n\u001b[0;32m      7\u001b[0m  \n\u001b[0;32m      8\u001b[0m \u001b[38;5;66;03m#train = df.t_stop1_to_stop2[:ntrain,:]\u001b[39;00m\n\u001b[0;32m      9\u001b[0m \u001b[38;5;66;03m#test = df.t_stop1_to_stop2[ntrain:,:]\u001b[39;00m\n\u001b[0;32m     10\u001b[0m \n\u001b[0;32m     11\u001b[0m \u001b[38;5;66;03m###predictions\u001b[39;00m\n\u001b[0;32m     12\u001b[0m predictions \u001b[38;5;241m=\u001b[39m results\u001b[38;5;241m.\u001b[39mpredict(start\u001b[38;5;241m=\u001b[39m\u001b[38;5;28mlen\u001b[39m(bus_train), end\u001b[38;5;241m=\u001b[39m\u001b[38;5;28mlen\u001b[39m(bus_train)\u001b[38;5;241m+\u001b[39m\u001b[38;5;28mlen\u001b[39m(bus_test)\u001b[38;5;241m-\u001b[39m\u001b[38;5;241m1\u001b[39m, dynamic\u001b[38;5;241m=\u001b[39m\u001b[38;5;28;01mTrue\u001b[39;00m)\n\u001b[1;32m---> 13\u001b[0m rmse \u001b[38;5;241m=\u001b[39m sqrt(\u001b[43mmean_squared_error\u001b[49m\u001b[43m(\u001b[49m\u001b[43mbus_test\u001b[49m\u001b[43m,\u001b[49m\u001b[43m \u001b[49m\u001b[43mpredictions\u001b[49m\u001b[43m)\u001b[49m)\n\u001b[0;32m     14\u001b[0m \u001b[38;5;28mprint\u001b[39m(\u001b[38;5;124m'\u001b[39m\u001b[38;5;124mTest RMSE: \u001b[39m\u001b[38;5;132;01m%.3f\u001b[39;00m\u001b[38;5;124m'\u001b[39m \u001b[38;5;241m%\u001b[39m rmse)\n",
      "File \u001b[1;32m~\\anaconda3\\lib\\site-packages\\sklearn\\metrics\\_regression.py:442\u001b[0m, in \u001b[0;36mmean_squared_error\u001b[1;34m(y_true, y_pred, sample_weight, multioutput, squared)\u001b[0m\n\u001b[0;32m    382\u001b[0m \u001b[38;5;28;01mdef\u001b[39;00m \u001b[38;5;21mmean_squared_error\u001b[39m(\n\u001b[0;32m    383\u001b[0m     y_true, y_pred, \u001b[38;5;241m*\u001b[39m, sample_weight\u001b[38;5;241m=\u001b[39m\u001b[38;5;28;01mNone\u001b[39;00m, multioutput\u001b[38;5;241m=\u001b[39m\u001b[38;5;124m\"\u001b[39m\u001b[38;5;124muniform_average\u001b[39m\u001b[38;5;124m\"\u001b[39m, squared\u001b[38;5;241m=\u001b[39m\u001b[38;5;28;01mTrue\u001b[39;00m\n\u001b[0;32m    384\u001b[0m ):\n\u001b[0;32m    385\u001b[0m     \u001b[38;5;124;03m\"\"\"Mean squared error regression loss.\u001b[39;00m\n\u001b[0;32m    386\u001b[0m \n\u001b[0;32m    387\u001b[0m \u001b[38;5;124;03m    Read more in the :ref:`User Guide <mean_squared_error>`.\u001b[39;00m\n\u001b[1;32m   (...)\u001b[0m\n\u001b[0;32m    440\u001b[0m \u001b[38;5;124;03m    0.825...\u001b[39;00m\n\u001b[0;32m    441\u001b[0m \u001b[38;5;124;03m    \"\"\"\u001b[39;00m\n\u001b[1;32m--> 442\u001b[0m     y_type, y_true, y_pred, multioutput \u001b[38;5;241m=\u001b[39m \u001b[43m_check_reg_targets\u001b[49m\u001b[43m(\u001b[49m\n\u001b[0;32m    443\u001b[0m \u001b[43m        \u001b[49m\u001b[43my_true\u001b[49m\u001b[43m,\u001b[49m\u001b[43m \u001b[49m\u001b[43my_pred\u001b[49m\u001b[43m,\u001b[49m\u001b[43m \u001b[49m\u001b[43mmultioutput\u001b[49m\n\u001b[0;32m    444\u001b[0m \u001b[43m    \u001b[49m\u001b[43m)\u001b[49m\n\u001b[0;32m    445\u001b[0m     check_consistent_length(y_true, y_pred, sample_weight)\n\u001b[0;32m    446\u001b[0m     output_errors \u001b[38;5;241m=\u001b[39m np\u001b[38;5;241m.\u001b[39maverage((y_true \u001b[38;5;241m-\u001b[39m y_pred) \u001b[38;5;241m*\u001b[39m\u001b[38;5;241m*\u001b[39m \u001b[38;5;241m2\u001b[39m, axis\u001b[38;5;241m=\u001b[39m\u001b[38;5;241m0\u001b[39m, weights\u001b[38;5;241m=\u001b[39msample_weight)\n",
      "File \u001b[1;32m~\\anaconda3\\lib\\site-packages\\sklearn\\metrics\\_regression.py:101\u001b[0m, in \u001b[0;36m_check_reg_targets\u001b[1;34m(y_true, y_pred, multioutput, dtype)\u001b[0m\n\u001b[0;32m     67\u001b[0m \u001b[38;5;124;03m\"\"\"Check that y_true and y_pred belong to the same regression task.\u001b[39;00m\n\u001b[0;32m     68\u001b[0m \n\u001b[0;32m     69\u001b[0m \u001b[38;5;124;03mParameters\u001b[39;00m\n\u001b[1;32m   (...)\u001b[0m\n\u001b[0;32m     98\u001b[0m \u001b[38;5;124;03m    correct keyword.\u001b[39;00m\n\u001b[0;32m     99\u001b[0m \u001b[38;5;124;03m\"\"\"\u001b[39;00m\n\u001b[0;32m    100\u001b[0m check_consistent_length(y_true, y_pred)\n\u001b[1;32m--> 101\u001b[0m y_true \u001b[38;5;241m=\u001b[39m \u001b[43mcheck_array\u001b[49m\u001b[43m(\u001b[49m\u001b[43my_true\u001b[49m\u001b[43m,\u001b[49m\u001b[43m \u001b[49m\u001b[43mensure_2d\u001b[49m\u001b[38;5;241;43m=\u001b[39;49m\u001b[38;5;28;43;01mFalse\u001b[39;49;00m\u001b[43m,\u001b[49m\u001b[43m \u001b[49m\u001b[43mdtype\u001b[49m\u001b[38;5;241;43m=\u001b[39;49m\u001b[43mdtype\u001b[49m\u001b[43m)\u001b[49m\n\u001b[0;32m    102\u001b[0m y_pred \u001b[38;5;241m=\u001b[39m check_array(y_pred, ensure_2d\u001b[38;5;241m=\u001b[39m\u001b[38;5;28;01mFalse\u001b[39;00m, dtype\u001b[38;5;241m=\u001b[39mdtype)\n\u001b[0;32m    104\u001b[0m \u001b[38;5;28;01mif\u001b[39;00m y_true\u001b[38;5;241m.\u001b[39mndim \u001b[38;5;241m==\u001b[39m \u001b[38;5;241m1\u001b[39m:\n",
      "File \u001b[1;32m~\\anaconda3\\lib\\site-packages\\sklearn\\utils\\validation.py:778\u001b[0m, in \u001b[0;36mcheck_array\u001b[1;34m(array, accept_sparse, accept_large_sparse, dtype, order, copy, force_all_finite, ensure_2d, allow_nd, ensure_min_samples, ensure_min_features, estimator, input_name)\u001b[0m\n\u001b[0;32m    774\u001b[0m     pandas_requires_conversion \u001b[38;5;241m=\u001b[39m \u001b[38;5;28many\u001b[39m(\n\u001b[0;32m    775\u001b[0m         _pandas_dtype_needs_early_conversion(i) \u001b[38;5;28;01mfor\u001b[39;00m i \u001b[38;5;129;01min\u001b[39;00m dtypes_orig\n\u001b[0;32m    776\u001b[0m     )\n\u001b[0;32m    777\u001b[0m     \u001b[38;5;28;01mif\u001b[39;00m \u001b[38;5;28mall\u001b[39m(\u001b[38;5;28misinstance\u001b[39m(dtype_iter, np\u001b[38;5;241m.\u001b[39mdtype) \u001b[38;5;28;01mfor\u001b[39;00m dtype_iter \u001b[38;5;129;01min\u001b[39;00m dtypes_orig):\n\u001b[1;32m--> 778\u001b[0m         dtype_orig \u001b[38;5;241m=\u001b[39m \u001b[43mnp\u001b[49m\u001b[38;5;241;43m.\u001b[39;49m\u001b[43mresult_type\u001b[49m\u001b[43m(\u001b[49m\u001b[38;5;241;43m*\u001b[39;49m\u001b[43mdtypes_orig\u001b[49m\u001b[43m)\u001b[49m\n\u001b[0;32m    780\u001b[0m \u001b[38;5;28;01melif\u001b[39;00m \u001b[38;5;28mhasattr\u001b[39m(array, \u001b[38;5;124m\"\u001b[39m\u001b[38;5;124miloc\u001b[39m\u001b[38;5;124m\"\u001b[39m) \u001b[38;5;129;01mand\u001b[39;00m \u001b[38;5;28mhasattr\u001b[39m(array, \u001b[38;5;124m\"\u001b[39m\u001b[38;5;124mdtype\u001b[39m\u001b[38;5;124m\"\u001b[39m):\n\u001b[0;32m    781\u001b[0m     \u001b[38;5;66;03m# array is a pandas series\u001b[39;00m\n\u001b[0;32m    782\u001b[0m     pandas_requires_conversion \u001b[38;5;241m=\u001b[39m _pandas_dtype_needs_early_conversion(array\u001b[38;5;241m.\u001b[39mdtype)\n",
      "File \u001b[1;32m<__array_function__ internals>:180\u001b[0m, in \u001b[0;36mresult_type\u001b[1;34m(*args, **kwargs)\u001b[0m\n",
      "\u001b[1;31mTypeError\u001b[0m: The DType <class 'numpy.dtype[datetime64]'> could not be promoted by <class 'numpy.dtype[float64]'>. This means that no common DType exists for the given inputs. For example they cannot be stored in a single array unless the dtype is `object`. The full list of DTypes is: (<class 'numpy.dtype[int64]'>, <class 'numpy.dtype[datetime64]'>, <class 'numpy.dtype[datetime64]'>, <class 'numpy.dtype[datetime64]'>, <class 'numpy.dtype[datetime64]'>, <class 'numpy.dtype[datetime64]'>, <class 'numpy.dtype[datetime64]'>, <class 'numpy.dtype[datetime64]'>, <class 'numpy.dtype[datetime64]'>, <class 'numpy.dtype[float64]'>, <class 'numpy.dtype[float64]'>, <class 'numpy.dtype[float64]'>, <class 'numpy.dtype[float64]'>, <class 'numpy.dtype[int64]'>, <class 'numpy.dtype[int64]'>, <class 'numpy.dtype[float64]'>, <class 'numpy.dtype[float64]'>, <class 'numpy.dtype[float64]'>, <class 'numpy.dtype[float64]'>, <class 'numpy.dtype[float64]'>, <class 'numpy.dtype[float64]'>, <class 'numpy.dtype[float64]'>, <class 'numpy.dtype[float64]'>, <class 'numpy.dtype[float64]'>, <class 'numpy.dtype[float64]'>, <class 'numpy.dtype[float64]'>, <class 'numpy.dtype[int64]'>)"
     ]
    }
   ],
   "source": [
    "from matplotlib import pyplot\n",
    "from statsmodels.tsa.ar_model import AutoReg\n",
    "from sklearn.metrics import mean_squared_error\n",
    "from math import sqrt\n",
    "\n",
    "#ntrain = int(2*len(df)/3)\n",
    " \n",
    "#train = df.t_stop1_to_stop2[:ntrain,:]\n",
    "#test = df.t_stop1_to_stop2[ntrain:,:]\n",
    "\n",
    "###predictions\n",
    "predictions = results.predict(start=len(bus_train), end=len(bus_train)+len(bus_test)-1, dynamic=True)\n",
    "rmse = sqrt(mean_squared_error(bus_test, predictions))\n",
    "print('Test RMSE: %.3f' % rmse)"
   ]
  },
  {
   "cell_type": "code",
   "execution_count": 56,
   "id": "c65bcc21",
   "metadata": {},
   "outputs": [
    {
     "ename": "NameError",
     "evalue": "name 'Union' is not defined",
     "output_type": "error",
     "traceback": [
      "\u001b[1;31m---------------------------------------------------------------------------\u001b[0m",
      "\u001b[1;31mNameError\u001b[0m                                 Traceback (most recent call last)",
      "Cell \u001b[1;32mIn[56], line 1\u001b[0m\n\u001b[1;32m----> 1\u001b[0m \u001b[38;5;28;01mdef\u001b[39;00m \u001b[38;5;21mrecursive_forecast\u001b[39m(endog: \u001b[43mUnion\u001b[49m[pd\u001b[38;5;241m.\u001b[39mdf, \u001b[38;5;28mlist\u001b[39m], exog: Union[pd\u001b[38;5;241m.\u001b[39mdf, \u001b[38;5;28mlist\u001b[39m], train_len: \u001b[38;5;28mint\u001b[39m, horizon: \u001b[38;5;28mint\u001b[39m, window: \u001b[38;5;28mint\u001b[39m, method: \u001b[38;5;28mstr\u001b[39m) \u001b[38;5;241m-\u001b[39m\u001b[38;5;241m>\u001b[39m \u001b[38;5;28mlist\u001b[39m:\n\u001b[0;32m      3\u001b[0m     total_len \u001b[38;5;241m=\u001b[39m train_len \u001b[38;5;241m+\u001b[39m horizon\n\u001b[0;32m      5\u001b[0m     \u001b[38;5;28;01mif\u001b[39;00m method \u001b[38;5;241m==\u001b[39m \u001b[38;5;124m'\u001b[39m\u001b[38;5;124mlast\u001b[39m\u001b[38;5;124m'\u001b[39m:\n",
      "\u001b[1;31mNameError\u001b[0m: name 'Union' is not defined"
     ]
    }
   ],
   "source": [
    "def recursive_forecast(endog: Union[pd.df, list], exog: Union[pd.df, list], train_len: int, horizon: int, window: int, method: str) -> list:\n",
    "    \n",
    "    total_len = train_len + horizon\n",
    "\n",
    "    if method == 'last':\n",
    "        pred_last_value = []\n",
    "        \n",
    "        for i in range(train_len, total_len, window):\n",
    "            last_value = endog[:i].iloc[-1]\n",
    "            pred_last_value.extend(last_value for _ in range(window))\n",
    "            \n",
    "        return pred_last_value\n",
    "    \n",
    "    elif method == 'SARIMAX':\n",
    "        pred_SARIMAX = []\n",
    "        \n",
    "        for i in range(train_len, total_len, window):\n",
    "            model = SARIMAX(endog[:i], exog[:i], order=(2,1,2), seasonal_order=(1,0,0,4), simple_differencing=False)\n",
    "            res = model.fit(disp=False)\n",
    "            predictions = res.get_prediction(exog=exog)\n",
    "            oos_pred = predictions.predicted_mean.iloc[-window:]\n",
    "            pred_SARIMAX.extend(oos_pred)\n",
    "            \n",
    "        return pred_SARIMAX"
   ]
  },
  {
   "cell_type": "code",
   "execution_count": 55,
   "id": "87033a83",
   "metadata": {},
   "outputs": [
    {
     "ename": "NameError",
     "evalue": "name 'recursive_forecast' is not defined",
     "output_type": "error",
     "traceback": [
      "\u001b[1;31m---------------------------------------------------------------------------\u001b[0m",
      "\u001b[1;31mNameError\u001b[0m                                 Traceback (most recent call last)",
      "Cell \u001b[1;32mIn[55], line 10\u001b[0m\n\u001b[0;32m      7\u001b[0m HORIZON \u001b[38;5;241m=\u001b[39m \u001b[38;5;28mlen\u001b[39m(target_test)\n\u001b[0;32m      8\u001b[0m WINDOW \u001b[38;5;241m=\u001b[39m \u001b[38;5;241m1\u001b[39m\n\u001b[1;32m---> 10\u001b[0m pred_last_value \u001b[38;5;241m=\u001b[39m \u001b[43mrecursive_forecast\u001b[49m(target, exog, TRAIN_LEN, HORIZON, WINDOW, \u001b[38;5;124m'\u001b[39m\u001b[38;5;124mlast\u001b[39m\u001b[38;5;124m'\u001b[39m)\n\u001b[0;32m     11\u001b[0m pred_SARIMAX \u001b[38;5;241m=\u001b[39m recursive_forecast(target, exog, TRAIN_LEN, HORIZON, WINDOW, \u001b[38;5;124m'\u001b[39m\u001b[38;5;124mSARIMAX\u001b[39m\u001b[38;5;124m'\u001b[39m)\n\u001b[0;32m     13\u001b[0m pred_df[\u001b[38;5;124m'\u001b[39m\u001b[38;5;124mpred_last_value\u001b[39m\u001b[38;5;124m'\u001b[39m] \u001b[38;5;241m=\u001b[39m pred_last_value\n",
      "\u001b[1;31mNameError\u001b[0m: name 'recursive_forecast' is not defined"
     ]
    }
   ],
   "source": [
    "target_train = target[:7203]\n",
    "target_test = target[7203:]\n",
    "\n",
    "pred_df = pd.DataFrame({'actual': target_test})\n",
    "\n",
    "TRAIN_LEN = len(target_train)\n",
    "HORIZON = len(target_test)\n",
    "WINDOW = 1\n",
    "\n",
    "pred_last_value = recursive_forecast(target, exog, TRAIN_LEN, HORIZON, WINDOW, 'last')\n",
    "pred_SARIMAX = recursive_forecast(target, exog, TRAIN_LEN, HORIZON, WINDOW, 'SARIMAX')\n",
    "\n",
    "pred_df['pred_last_value'] = pred_last_value\n",
    "pred_df['pred_SARIMAX'] = pred_SARIMAX\n",
    "\n",
    "pred_df"
   ]
  },
  {
   "cell_type": "code",
   "execution_count": 84,
   "id": "63dc3a08",
   "metadata": {},
   "outputs": [
    {
     "data": {
      "text/plain": [
       "<matplotlib.lines.Line2D at 0x1ff1f1d3af0>"
      ]
     },
     "execution_count": 84,
     "metadata": {},
     "output_type": "execute_result"
    },
    {
     "data": {
      "image/png": "[encoded data removed]",
      "text/plain": [
       "<Figure size 640x480 with 1 Axes>"
      ]
     },
     "metadata": {},
     "output_type": "display_data"
    }
   ],
   "source": [
    "import matplotlib.pyplot as plt\n",
    "\n",
    "\n",
    "fig, ax = plt.subplots()\n",
    "ax.grid('on')\n",
    "ax.plot(df.sched_1_355, df.t_stop2_to_stop3, c='r')\n",
    "ax.axhline(df.t_stop2_to_stop3.mean(), c='k', ls='--', lw=1)"
   ]
  },
  {
   "cell_type": "code",
   "execution_count": 85,
   "id": "40bd910d",
   "metadata": {},
   "outputs": [
    {
     "data": {
      "text/plain": [
       "<matplotlib.lines.Line2D at 0x1ff2307c580>"
      ]
     },
     "execution_count": 85,
     "metadata": {},
     "output_type": "execute_result"
    },
    {
     "data": {
      "image/png": "[encoded data removed]",
      "text/plain": [
       "<Figure size 640x480 with 1 Axes>"
      ]
     },
     "metadata": {},
     "output_type": "display_data"
    }
   ],
   "source": [
    "import matplotlib.pyplot as plt\n",
    "\n",
    "\n",
    "fig, ax = plt.subplots()\n",
    "ax.grid('on')\n",
    "ax.plot(df.sched_1_355, df.t_stop2_to_stop3, c='r')\n",
    "ax.axhline(df.t_stop3_to_stop4.mean(), c='k', ls='--', lw=1)"
   ]
  },
  {
   "cell_type": "code",
   "execution_count": 9,
   "id": "d1dce651",
   "metadata": {},
   "outputs": [
    {
     "name": "stderr",
     "output_type": "stream",
     "text": [
      "C:\\Users\\4o4o\\anaconda3\\lib\\site-packages\\statsmodels\\tsa\\base\\tsa_model.py:471: ValueWarning: An unsupported index was provided and will be ignored when e.g. forecasting.\n",
      "  self._init_dates(dates, freq)\n",
      "C:\\Users\\4o4o\\anaconda3\\lib\\site-packages\\statsmodels\\tsa\\base\\tsa_model.py:471: ValueWarning: An unsupported index was provided and will be ignored when e.g. forecasting.\n",
      "  self._init_dates(dates, freq)\n",
      "C:\\Users\\4o4o\\anaconda3\\lib\\site-packages\\statsmodels\\base\\model.py:604: ConvergenceWarning: Maximum Likelihood optimization failed to converge. Check mle_retvals\n",
      "  warnings.warn(\"Maximum Likelihood optimization failed to \"\n"
     ]
    },
    {
     "name": "stdout",
     "output_type": "stream",
     "text": [
      "                                     SARIMAX Results                                     \n",
      "=========================================================================================\n",
      "Dep. Variable:                  t_stop2_to_stop3   No. Observations:                 7392\n",
      "Model:             SARIMAX(2, 1, 1)x(0, 1, 1, 4)   Log Likelihood              -36038.768\n",
      "Date:                           Fri, 21 Jul 2023   AIC                          72111.536\n",
      "Time:                                   09:47:35   BIC                          72228.963\n",
      "Sample:                                        0   HQIC                         72151.890\n",
      "                                          - 7392                                         \n",
      "Covariance Type:                             opg                                         \n",
      "==============================================================================\n",
      "                 coef    std err          z      P>|z|      [0.025      0.975]\n",
      "------------------------------------------------------------------------------\n",
      "temp           0.4860      0.721      0.674      0.500      -0.928       1.900\n",
      "feels_like    -0.1911      0.524     -0.365      0.715      -1.219       0.836\n",
      "temp_min      -0.0042      0.317     -0.013      0.990      -0.626       0.618\n",
      "temp_max       0.1865      0.250      0.746      0.456      -0.304       0.677\n",
      "pressure      -0.0860      0.039     -2.209      0.027      -0.162      -0.010\n",
      "humidity      -0.1299      0.056     -2.331      0.020      -0.239      -0.021\n",
      "wind_speed    -0.2336      0.269     -0.869      0.385      -0.761       0.294\n",
      "rain_1h        0.7584      0.155      4.887      0.000       0.454       1.063\n",
      "rain_3h    -4.221e-15        nan        nan        nan         nan         nan\n",
      "snow_1h       -9.2238      3.959     -2.330      0.020     -16.984      -1.464\n",
      "snow_3h             0        nan        nan        nan         nan         nan\n",
      "clouds_all     0.0533      0.016      3.385      0.001       0.022       0.084\n",
      "ar.L1          0.2817      0.007     41.285      0.000       0.268       0.295\n",
      "ar.L2          0.1458      0.008     19.284      0.000       0.131       0.161\n",
      "ma.L1         -0.9902      0.002   -570.349      0.000      -0.994      -0.987\n",
      "ma.S.L4       -0.9996      0.003   -324.261      0.000      -1.006      -0.994\n",
      "sigma2      1008.4765      6.309    159.859      0.000     996.112    1020.841\n",
      "===================================================================================\n",
      "Ljung-Box (L1) (Q):                   1.43   Jarque-Bera (JB):             82659.53\n",
      "Prob(Q):                              0.23   Prob(JB):                         0.00\n",
      "Heteroskedasticity (H):               1.33   Skew:                             2.47\n",
      "Prob(H) (two-sided):                  0.00   Kurtosis:                        18.63\n",
      "===================================================================================\n",
      "\n",
      "Warnings:\n",
      "[1] Covariance matrix calculated using the outer product of gradients (complex-step).\n",
      "[2] Covariance matrix is singular or near-singular, with condition number 2.32e+22. Standard errors may be unstable.\n"
     ]
    }
   ],
   "source": [
    "from statsmodels.tsa.statespace.sarimax import SARIMAX\n",
    "\n",
    "model2 = SARIMAX(df.t_stop2_to_stop3, exog=weather_data, order=(2, 1, 1), seasonal_order=(0,1,1,4))\n",
    "results2 = model2.fit()\n",
    "print(results2.summary())"
   ]
  },
  {
   "cell_type": "code",
   "execution_count": 10,
   "id": "671cb748",
   "metadata": {},
   "outputs": [
    {
     "name": "stderr",
     "output_type": "stream",
     "text": [
      "C:\\Users\\4o4o\\anaconda3\\lib\\site-packages\\statsmodels\\tsa\\base\\tsa_model.py:471: ValueWarning: An unsupported index was provided and will be ignored when e.g. forecasting.\n",
      "  self._init_dates(dates, freq)\n",
      "C:\\Users\\4o4o\\anaconda3\\lib\\site-packages\\statsmodels\\tsa\\base\\tsa_model.py:471: ValueWarning: An unsupported index was provided and will be ignored when e.g. forecasting.\n",
      "  self._init_dates(dates, freq)\n",
      "C:\\Users\\4o4o\\anaconda3\\lib\\site-packages\\statsmodels\\base\\model.py:604: ConvergenceWarning: Maximum Likelihood optimization failed to converge. Check mle_retvals\n",
      "  warnings.warn(\"Maximum Likelihood optimization failed to \"\n"
     ]
    },
    {
     "name": "stdout",
     "output_type": "stream",
     "text": [
      "                                     SARIMAX Results                                     \n",
      "=========================================================================================\n",
      "Dep. Variable:                  t_stop3_to_stop4   No. Observations:                 7392\n",
      "Model:             SARIMAX(2, 1, 1)x(0, 1, 1, 4)   Log Likelihood              -39701.469\n",
      "Date:                           Fri, 21 Jul 2023   AIC                          79436.939\n",
      "Time:                                   09:49:07   BIC                          79554.366\n",
      "Sample:                                        0   HQIC                         79477.293\n",
      "                                          - 7392                                         \n",
      "Covariance Type:                             opg                                         \n",
      "==============================================================================\n",
      "                 coef    std err          z      P>|z|      [0.025      0.975]\n",
      "------------------------------------------------------------------------------\n",
      "temp           1.7482      1.237      1.414      0.157      -0.675       4.172\n",
      "feels_like    -1.2999      0.907     -1.432      0.152      -3.078       0.479\n",
      "temp_min      -0.4821      0.555     -0.869      0.385      -1.570       0.606\n",
      "temp_max       0.0281      0.409      0.069      0.945      -0.774       0.830\n",
      "pressure      -0.1492      0.053     -2.835      0.005      -0.252      -0.046\n",
      "humidity      -0.1986      0.079     -2.523      0.012      -0.353      -0.044\n",
      "wind_speed    -0.0063      0.497     -0.013      0.990      -0.980       0.968\n",
      "rain_1h        1.7266      0.526      3.281      0.001       0.695       2.758\n",
      "rain_3h    -5.572e-17   2.15e-13     -0.000      1.000   -4.21e-13    4.21e-13\n",
      "snow_1h       -0.1254      8.585     -0.015      0.988     -16.951      16.701\n",
      "snow_3h             0      1e-13          0      1.000   -1.97e-13    1.97e-13\n",
      "clouds_all     0.0462      0.028      1.655      0.098      -0.009       0.101\n",
      "ar.L1          0.1715      0.013     13.445      0.000       0.146       0.196\n",
      "ar.L2          0.1092      0.013      8.394      0.000       0.084       0.135\n",
      "ma.L1         -0.9987      0.000  -2247.547      0.000      -1.000      -0.998\n",
      "ma.S.L4       -0.9997      0.004   -280.893      0.000      -1.007      -0.993\n",
      "sigma2      3100.7055     41.745     74.278      0.000    3018.888    3182.523\n",
      "===================================================================================\n",
      "Ljung-Box (L1) (Q):                   0.35   Jarque-Bera (JB):              2603.13\n",
      "Prob(Q):                              0.55   Prob(JB):                         0.00\n",
      "Heteroskedasticity (H):               1.37   Skew:                             0.69\n",
      "Prob(H) (two-sided):                  0.00   Kurtosis:                         5.56\n",
      "===================================================================================\n",
      "\n",
      "Warnings:\n",
      "[1] Covariance matrix calculated using the outer product of gradients (complex-step).\n",
      "[2] Covariance matrix is singular or near-singular, with condition number 1.05e+24. Standard errors may be unstable.\n"
     ]
    }
   ],
   "source": [
    "from statsmodels.tsa.statespace.sarimax import SARIMAX\n",
    "\n",
    "model3 = SARIMAX(df.t_stop3_to_stop4, exog=weather_data, order=(2, 1, 1), seasonal_order=(0,1,1,4))\n",
    "results3 = model3.fit()\n",
    "print(results3.summary())"
   ]
  },
  {
   "cell_type": "code",
   "execution_count": null,
   "id": "f3f91c0c",
   "metadata": {},
   "outputs": [],
   "source": [
    "###remont \n",
    "\n",
    "construction_start_date = datetime(year=2020, month=8, day =1)\n",
    "construction_end_date = datetime(year=2021, month = 1, hour = 12)"
   ]
  }
 ],
 "metadata": {
  "kernelspec": {
   "display_name": "Python 3 (ipykernel)",
   "language": "python",
   "name": "python3"
  },
  "language_info": {
   "codemirror_mode": {
    "name": "ipython",
    "version": 3
   },
   "file_extension": ".py",
   "mimetype": "text/x-python",
   "name": "python",
   "nbconvert_exporter": "python",
   "pygments_lexer": "ipython3",
   "version": "3.10.9"
  }
 },
 "nbformat": 4,
 "nbformat_minor": 5
}
